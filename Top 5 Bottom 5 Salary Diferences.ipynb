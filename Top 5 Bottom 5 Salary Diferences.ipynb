{
 "cells": [
  {
   "cell_type": "code",
   "execution_count": 1,
   "id": "a08fef9f",
   "metadata": {},
   "outputs": [],
   "source": [
    "import pandas as pd\n",
    "import matplotlib as plt"
   ]
  },
  {
   "cell_type": "code",
   "execution_count": 7,
   "id": "cd788c80",
   "metadata": {},
   "outputs": [
    {
     "data": {
      "text/plain": [
       "City                                                      object\n",
       "State                                                     object\n",
       "Meal, Inexpensive Restaurant                             float64\n",
       "Meal for 2 People, Mid-Range Restaurant, Three-course    float64\n",
       "McMeal at McDonalds (or Equivalent Combo Meal)           float64\n",
       "                                                          ...   \n",
       "Expected State Tax Bracket                               float64\n",
       "Expected Federal Tax Bracket                             float64\n",
       "Federal + State Tax for Bracket                          float64\n",
       "Net Expected Profit                                      float64\n",
       "Net Expected Monthly Profit                              float64\n",
       "Length: 68, dtype: object"
      ]
     },
     "execution_count": 7,
     "metadata": {},
     "output_type": "execute_result"
    }
   ],
   "source": [
    "col_earn_df.dtypes"
   ]
  },
  {
   "cell_type": "code",
   "execution_count": 8,
   "id": "6a3d40b1",
   "metadata": {},
   "outputs": [
    {
     "data": {
      "text/plain": [
       "dtype('float64')"
      ]
     },
     "execution_count": 8,
     "metadata": {},
     "output_type": "execute_result"
    }
   ],
   "source": [
    "col_earn_df['AverageMonthlyNetSalary(AfterTax)'].dtypes"
   ]
  },
  {
   "cell_type": "code",
   "execution_count": 9,
   "id": "418a700f",
   "metadata": {},
   "outputs": [],
   "source": [
    "col_earn_df['difference'] = col_earn_df['Net Expected Monthly Profit'] - col_earn_df['AverageMonthlyNetSalary(AfterTax)']"
   ]
  },
  {
   "cell_type": "code",
   "execution_count": 11,
   "id": "338e8303",
   "metadata": {},
   "outputs": [
    {
     "name": "stdout",
     "output_type": "stream",
     "text": [
      "515         Washington\n",
      "499         Washington\n",
      "188         California\n",
      "501         Washington\n",
      "65          California\n",
      "73          California\n",
      "196         California\n",
      "62          California\n",
      "495         Washington\n",
      "512         Washington\n",
      "502         Washington\n",
      "727     North Carolina\n",
      "991         New Jersey\n",
      "180         California\n",
      "143         California\n",
      "1029        New Jersey\n",
      "1064           Wyoming\n",
      "988         New Jersey\n",
      "108         California\n",
      "94          California\n",
      "4             New York\n",
      "503         Washington\n",
      "785           Virginia\n",
      "761           Virginia\n",
      "764           Virginia\n",
      "15            New York\n",
      "768           Virginia\n",
      "63          California\n",
      "157         California\n",
      "125         California\n",
      "Name: State, dtype: object\n"
     ]
    }
   ],
   "source": [
    "highest_df = col_earn_df.sort_values(by='difference', ascending=False)\n",
    "top_5 = highest_df.head(30)\n",
    "top_5_state = top_5['State']\n",
    "print(top_5_state)"
   ]
  },
  {
   "cell_type": "code",
   "execution_count": 12,
   "id": "46c86d7c",
   "metadata": {},
   "outputs": [],
   "source": [
    "top50_df = highest_df.head(50)"
   ]
  },
  {
   "cell_type": "code",
   "execution_count": 13,
   "id": "1f1a6838",
   "metadata": {},
   "outputs": [
    {
     "name": "stdout",
     "output_type": "stream",
     "text": [
      "California        24\n",
      "Washington         8\n",
      "New Jersey         6\n",
      "Virginia           4\n",
      "New York           3\n",
      "North Carolina     1\n",
      "Wyoming            1\n",
      "Tennessee          1\n",
      "Rhode Island       1\n",
      "Maryland           1\n",
      "Name: State, dtype: int64\n"
     ]
    }
   ],
   "source": [
    "value_counts = top50_df['State'].value_counts()\n",
    "print(value_counts)"
   ]
  },
  {
   "cell_type": "code",
   "execution_count": 14,
   "id": "f5c57561",
   "metadata": {},
   "outputs": [
    {
     "name": "stdout",
     "output_type": "stream",
     "text": [
      "694           Indiana\n",
      "685              Ohio\n",
      "702           Indiana\n",
      "223          Illinois\n",
      "604          Maryland\n",
      "23           New York\n",
      "312           Florida\n",
      "291           Florida\n",
      "476           Arizona\n",
      "955              Iowa\n",
      "269           Florida\n",
      "1046    West Virginia\n",
      "587          Colorado\n",
      "351      Pennsylvania\n",
      "385             Texas\n",
      "896            Hawaii\n",
      "333      Pennsylvania\n",
      "713          Missouri\n",
      "695           Indiana\n",
      "937            Kansas\n",
      "1042     North Dakota\n",
      "600          Maryland\n",
      "712          Missouri\n",
      "279           Florida\n",
      "901        New Mexico\n",
      "519        Washington\n",
      "897            Hawaii\n",
      "1061          Montana\n",
      "160        California\n",
      "14           New York\n",
      "Name: State, dtype: object\n"
     ]
    }
   ],
   "source": [
    "lowest_df = col_earn_df.sort_values(by='difference', ascending=True)\n",
    "bot_5 = lowest_df.head(30)\n",
    "bot_5_state = bot_5['State']\n",
    "print(bot_5_state)"
   ]
  },
  {
   "cell_type": "code",
   "execution_count": 15,
   "id": "02792e77",
   "metadata": {},
   "outputs": [],
   "source": [
    "bot50_df = lowest_df.head(50)"
   ]
  },
  {
   "cell_type": "code",
   "execution_count": 16,
   "id": "a27896eb",
   "metadata": {},
   "outputs": [
    {
     "name": "stdout",
     "output_type": "stream",
     "text": [
      "Florida           5\n",
      "Indiana           4\n",
      "New York          3\n",
      "Pennsylvania      3\n",
      "Illinois          3\n",
      "Maryland          2\n",
      "Wisconsin         2\n",
      "Iowa              2\n",
      "Hawaii            2\n",
      "Missouri          2\n",
      "Ohio              2\n",
      "Montana           2\n",
      "California        2\n",
      "Maine             1\n",
      "Virginia          1\n",
      "New Jersey        1\n",
      "Utah              1\n",
      "Oklahoma          1\n",
      "South Carolina    1\n",
      "Nevada            1\n",
      "Kansas            1\n",
      "Washington        1\n",
      "New Mexico        1\n",
      "North Dakota      1\n",
      "Texas             1\n",
      "Colorado          1\n",
      "West Virginia     1\n",
      "Arizona           1\n",
      "Michigan          1\n",
      "Name: State, dtype: int64\n"
     ]
    }
   ],
   "source": [
    "lower_value_counts = bot50_df['State'].value_counts()\n",
    "print(lower_value_counts)"
   ]
  },
  {
   "cell_type": "code",
   "execution_count": null,
   "id": "034352c6",
   "metadata": {},
   "outputs": [],
   "source": []
  },
  {
   "cell_type": "code",
   "execution_count": null,
   "id": "201498ed",
   "metadata": {},
   "outputs": [],
   "source": []
  }
 ],
 "metadata": {
  "kernelspec": {
   "display_name": "Python 3 (ipykernel)",
   "language": "python",
   "name": "python3"
  },
  "language_info": {
   "codemirror_mode": {
    "name": "ipython",
    "version": 3
   },
   "file_extension": ".py",
   "mimetype": "text/x-python",
   "name": "python",
   "nbconvert_exporter": "python",
   "pygments_lexer": "ipython3",
   "version": "3.11.4"
  }
 },
 "nbformat": 4,
 "nbformat_minor": 5
}
