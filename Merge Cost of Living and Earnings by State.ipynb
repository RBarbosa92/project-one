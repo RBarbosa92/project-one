{
 "cells": [
  {
   "cell_type": "code",
   "execution_count": null,
   "id": "2cd4e0d4",
   "metadata": {},
   "outputs": [],
   "source": [
    "import pandas as pd\n",
    "import csv"
   ]
  },
  {
   "cell_type": "code",
   "execution_count": null,
   "id": "aa15ec4a",
   "metadata": {},
   "outputs": [],
   "source": [
    "col_df = pd.read_csv(\"cost_of_living.csv\")\n",
    "earn_df = pd.read_csv(\"state_ds_earnings.csv\")"
   ]
  },
  {
   "cell_type": "code",
   "execution_count": null,
   "id": "7300447a",
   "metadata": {},
   "outputs": [],
   "source": [
    "col_earn_df = pd.merge(col_df, earn_df, on='State', how='inner')"
   ]
  },
  {
   "cell_type": "code",
   "execution_count": null,
   "id": "6aa11ec1",
   "metadata": {},
   "outputs": [],
   "source": [
    "col_earn_df.to_csv('col_earn.csv', index=False)"
   ]
  },
  {
   "cell_type": "code",
   "execution_count": null,
   "id": "d98f81ff",
   "metadata": {},
   "outputs": [],
   "source": [
    "col_earn_df"
   ]
  },
  {
   "cell_type": "code",
   "execution_count": null,
   "id": "f70ffb05",
   "metadata": {},
   "outputs": [],
   "source": [
    "col_earn_df.dtypes"
   ]
  }
 ],
 "metadata": {
  "kernelspec": {
   "display_name": "Python 3 (ipykernel)",
   "language": "python",
   "name": "python3"
  },
  "language_info": {
   "codemirror_mode": {
    "name": "ipython",
    "version": 3
   },
   "file_extension": ".py",
   "mimetype": "text/x-python",
   "name": "python",
   "nbconvert_exporter": "python",
   "pygments_lexer": "ipython3",
   "version": "3.11.4"
  }
 },
 "nbformat": 4,
 "nbformat_minor": 5
}
